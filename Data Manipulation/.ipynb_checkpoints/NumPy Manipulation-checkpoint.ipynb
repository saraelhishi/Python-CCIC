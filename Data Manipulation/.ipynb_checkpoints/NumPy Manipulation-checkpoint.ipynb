{
 "cells": [
  {
   "cell_type": "code",
   "execution_count": 1,
   "metadata": {},
   "outputs": [],
   "source": [
    "#######################################################################################################\n",
    "###################### More functions that are very helpful in Data Analysis ##########################\n",
    "#######################################################################################################"
   ]
  },
  {
   "cell_type": "code",
   "execution_count": 2,
   "metadata": {},
   "outputs": [],
   "source": [
    "import numpy as np"
   ]
  },
  {
   "cell_type": "code",
   "execution_count": 4,
   "metadata": {},
   "outputs": [
    {
     "data": {
      "text/plain": [
       "(array([2, 3, 4, 5, 6], dtype=int64),)"
      ]
     },
     "execution_count": 4,
     "metadata": {},
     "output_type": "execute_result"
    }
   ],
   "source": [
    "#### where(condition)\n",
    "# extract index of items; not item itself, that satisfy a certain conition\n",
    "arr = np.array([2,4,6,7,11,9,9,3,3])\n",
    "ind_4 = np.where(arr > 4) # posisition of items greater than 4\n",
    "ind_4"
   ]
  },
  {
   "cell_type": "code",
   "execution_count": 5,
   "metadata": {},
   "outputs": [
    {
     "data": {
      "text/plain": [
       "array([[ 6,  7, 11,  9,  9]])"
      ]
     },
     "execution_count": 5,
     "metadata": {},
     "output_type": "execute_result"
    }
   ],
   "source": [
    "# Retreive items by an index array\n",
    "arr.take(ind_4)"
   ]
  },
  {
   "cell_type": "code",
   "execution_count": 6,
   "metadata": {},
   "outputs": [
    {
     "data": {
      "text/plain": [
       "array(['fail', 'fail', 'pass', 'pass', 'pass', 'pass', 'pass', 'fail',\n",
       "       'fail'], dtype='<U4')"
      ]
     },
     "execution_count": 6,
     "metadata": {},
     "output_type": "execute_result"
    }
   ],
   "source": [
    "# placing values based on the condition\n",
    "# where(condition, value if True, value if False)\n",
    "np.where(arr > 4, 'pass', 'fail') "
   ]
  },
  {
   "cell_type": "code",
   "execution_count": 7,
   "metadata": {},
   "outputs": [
    {
     "name": "stdout",
     "output_type": "stream",
     "text": [
      "4\n",
      "0\n"
     ]
    }
   ],
   "source": [
    "### index of max and min values\n",
    "print(np.argmax(arr)); print(np.argmin(arr))"
   ]
  },
  {
   "cell_type": "code",
   "execution_count": 27,
   "metadata": {},
   "outputs": [],
   "source": [
    "#### read data from a .csv file\n",
    "# np.gefromtxt(path, delimiter char, skip_header=True or False, filling_values= value in case of missing values, dtype='int, float, object, str, bool')\n",
    "# in case of files containing text as well as number, set the dtype='object' or None\n",
    "data = np.genfromtxt('test.csv', delimiter=',', skip_header=1, filling_values=-999, dtype=None)"
   ]
  },
  {
   "cell_type": "code",
   "execution_count": 28,
   "metadata": {},
   "outputs": [
    {
     "data": {
      "text/plain": [
       "array([ 1.500e+01,  8.000e+00,  3.500e+02,  1.650e+02,  3.693e+03,\n",
       "        1.150e+01,  7.000e+01,  1.000e+00, -9.990e+02])"
      ]
     },
     "execution_count": 28,
     "metadata": {},
     "output_type": "execute_result"
    }
   ],
   "source": [
    "data[1]"
   ]
  },
  {
   "cell_type": "code",
   "execution_count": 29,
   "metadata": {},
   "outputs": [],
   "source": [
    "# write data to a .csv file\n",
    "np.savetxt('output.csv', data, delimiter=',')"
   ]
  },
  {
   "cell_type": "code",
   "execution_count": 31,
   "metadata": {},
   "outputs": [
    {
     "data": {
      "text/plain": [
       "array([ 2,  4,  6,  7, 11,  9,  9,  3,  3])"
      ]
     },
     "execution_count": 31,
     "metadata": {},
     "output_type": "execute_result"
    }
   ],
   "source": [
    "### Serilization: saving objects\n",
    "# save the np array object as .npy, so that you can load it later without re-running the whole script at hand\n",
    "np.save('savedArr.npy', arr)\n",
    "\n",
    "#load back\n",
    "loaded_arr = np.load('savedArr.npy')\n",
    "loaded_arr"
   ]
  },
  {
   "cell_type": "code",
   "execution_count": 34,
   "metadata": {},
   "outputs": [],
   "source": [
    "#### Array Concatenation --- Arrays should be the same size\n",
    "a = np.zeros([2,2])\n",
    "b = np.ones([2,2])"
   ]
  },
  {
   "cell_type": "code",
   "execution_count": 44,
   "metadata": {},
   "outputs": [
    {
     "name": "stdout",
     "output_type": "stream",
     "text": [
      "[[0. 0.]\n",
      " [0. 0.]\n",
      " [1. 1.]\n",
      " [1. 1.]]\n"
     ]
    }
   ],
   "source": [
    "# concatenate by row --- 3 \n",
    "print(np.r_[a,b]);\n",
    "\n",
    "#print(np.concatenate([a,b], axis=0));\n",
    "#print(np.vstack([a,b]));"
   ]
  },
  {
   "cell_type": "code",
   "execution_count": 45,
   "metadata": {},
   "outputs": [
    {
     "name": "stdout",
     "output_type": "stream",
     "text": [
      "[[0. 0. 1. 1.]\n",
      " [0. 0. 1. 1.]]\n"
     ]
    }
   ],
   "source": [
    "# concatenate by col\n",
    "print(np.c_[a,b]);\n",
    "#print(np.concatenate([a,b], axis=1));\n",
    "#print(np.hstack([a,b]));"
   ]
  },
  {
   "cell_type": "code",
   "execution_count": 12,
   "metadata": {},
   "outputs": [
    {
     "data": {
      "text/plain": [
       "array([[9, 5, 1, 1, 9],\n",
       "       [1, 1, 5, 2, 3],\n",
       "       [9, 6, 6, 8, 1]])"
      ]
     },
     "execution_count": 12,
     "metadata": {},
     "output_type": "execute_result"
    }
   ],
   "source": [
    "### Sorting\n",
    "arr2 = np.random.randint(1,10, size=[3,5])\n",
    "arr2"
   ]
  },
  {
   "cell_type": "code",
   "execution_count": 13,
   "metadata": {},
   "outputs": [
    {
     "data": {
      "text/plain": [
       "array([[1, 1, 5, 9, 9],\n",
       "       [1, 1, 2, 3, 5],\n",
       "       [1, 6, 6, 8, 9]])"
      ]
     },
     "execution_count": 13,
     "metadata": {},
     "output_type": "execute_result"
    }
   ],
   "source": [
    "# sort the whole array\n",
    "np.sort(arr2)"
   ]
  },
  {
   "cell_type": "code",
   "execution_count": 48,
   "metadata": {},
   "outputs": [
    {
     "data": {
      "text/plain": [
       "array([[2, 1, 4, 3, 2],\n",
       "       [4, 3, 5, 5, 5],\n",
       "       [7, 8, 5, 9, 8]])"
      ]
     },
     "execution_count": 48,
     "metadata": {},
     "output_type": "execute_result"
    }
   ],
   "source": [
    "# sort each column\n",
    "np.sort(arr2, axis=0)"
   ]
  },
  {
   "cell_type": "code",
   "execution_count": 49,
   "metadata": {},
   "outputs": [
    {
     "data": {
      "text/plain": [
       "array([[2, 2, 5, 8, 9],\n",
       "       [3, 4, 5, 5, 7],\n",
       "       [1, 3, 4, 5, 8]])"
      ]
     },
     "execution_count": 49,
     "metadata": {},
     "output_type": "execute_result"
    }
   ],
   "source": [
    "#sort each row\n",
    "np.sort(arr2, axis=1)"
   ]
  },
  {
   "cell_type": "code",
   "execution_count": 51,
   "metadata": {},
   "outputs": [
    {
     "data": {
      "text/plain": [
       "array([0, 2, 1], dtype=int64)"
      ]
     },
     "execution_count": 51,
     "metadata": {},
     "output_type": "execute_result"
    }
   ],
   "source": [
    "# sort by first column without distrubing the rows \n",
    "# first get the right sort of first col's indices\n",
    "sorted_col = arr2[:,0].argsort()\n",
    "sorted_col"
   ]
  },
  {
   "cell_type": "code",
   "execution_count": 53,
   "metadata": {},
   "outputs": [
    {
     "data": {
      "text/plain": [
       "array([[7, 3, 4, 5, 5],\n",
       "       [4, 1, 5, 3, 8],\n",
       "       [2, 8, 5, 9, 2]])"
      ]
     },
     "execution_count": 53,
     "metadata": {},
     "output_type": "execute_result"
    }
   ],
   "source": [
    "# display the array using that sorted column\n",
    "arr2[sorted_col]\n",
    "\n",
    "# sort descending \n",
    "arr2[sorted_col[::-1]]"
   ]
  },
  {
   "cell_type": "code",
   "execution_count": null,
   "metadata": {},
   "outputs": [],
   "source": []
  }
 ],
 "metadata": {
  "kernelspec": {
   "display_name": "Python 3",
   "language": "python",
   "name": "python3"
  },
  "language_info": {
   "codemirror_mode": {
    "name": "ipython",
    "version": 3
   },
   "file_extension": ".py",
   "mimetype": "text/x-python",
   "name": "python",
   "nbconvert_exporter": "python",
   "pygments_lexer": "ipython3",
   "version": "3.7.1"
  }
 },
 "nbformat": 4,
 "nbformat_minor": 2
}
