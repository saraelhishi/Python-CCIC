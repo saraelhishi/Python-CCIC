{
 "cells": [
  {
   "cell_type": "code",
   "execution_count": 1,
   "metadata": {},
   "outputs": [],
   "source": [
    "######################### Building a Web Craweler using Scrapy #######################################\n",
    "######################################################################################################"
   ]
  },
  {
   "cell_type": "code",
   "execution_count": 2,
   "metadata": {},
   "outputs": [],
   "source": [
    "import scrapy"
   ]
  },
  {
   "cell_type": "code",
   "execution_count": 3,
   "metadata": {},
   "outputs": [],
   "source": [
    "# create a scraper class\n",
    "class HeadphoneSpider(scrapy.Spider): #inherits from scrapy spiders\n",
    "    name = 'headphones'  # When we will run our spider form terminal, \n",
    "                        # you will use the name of the spider to start crawling the web. \n",
    "    \n",
    "    # define a function that send a request to the websites we will scrape\n",
    "    def start_requests(self):\n",
    "        urls = [\n",
    "            'https://www.jbl.com/headphones/'\n",
    "        ]   \t# list to enter our urls\n",
    "        for url in urls:\n",
    "            yield scrapy.Request(url=url, callback=self.parse) \n",
    "            \n",
    "    def parse(self, response):\n",
    "        img_urls = response.css('img::attr(src)').extract()\n",
    "        with open('urls.txt', 'w') as f:\n",
    "            for u in img_urls:\n",
    "                f.write(u + \"\\n\")"
   ]
  },
  {
   "cell_type": "code",
   "execution_count": null,
   "metadata": {},
   "outputs": [],
   "source": []
  }
 ],
 "metadata": {
  "kernelspec": {
   "display_name": "Python 3",
   "language": "python",
   "name": "python3"
  },
  "language_info": {
   "codemirror_mode": {
    "name": "ipython",
    "version": 3
   },
   "file_extension": ".py",
   "mimetype": "text/x-python",
   "name": "python",
   "nbconvert_exporter": "python",
   "pygments_lexer": "ipython3",
   "version": "3.7.1"
  }
 },
 "nbformat": 4,
 "nbformat_minor": 2
}
