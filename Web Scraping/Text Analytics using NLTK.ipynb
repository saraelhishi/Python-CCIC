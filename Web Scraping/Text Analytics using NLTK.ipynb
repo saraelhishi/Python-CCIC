{
 "cells": [
  {
   "cell_type": "code",
   "execution_count": 1,
   "metadata": {},
   "outputs": [],
   "source": [
    "################################ Natural Language Processing (NLP) #############################\n",
    "# NLP is about developing applications and services that are able to understand human languages. \n",
    "# Google voice search, Grammer correction, chatbots,  sentiment analysis re examples of fields needs NLP"
   ]
  },
  {
   "cell_type": "code",
   "execution_count": 2,
   "metadata": {},
   "outputs": [],
   "source": [
    "############################## NLTK : NLP ToolKit in Python ###################################\n",
    "# The most powerful library for NLP \n",
    "# First, install nltk and download all its packages and dataset using following commands \n",
    "# (p.s. you need an Internet connection, a small pop-up window appear --> click download and wait)\n",
    "import nltk\n",
    "# nltk.download()\n",
    "# in case you don't wanna wait, just make sre to download the following packages\n",
    "# nltk.download('punkt')\n",
    "# nltk.download('stopwords')\n",
    "# nltk.download('wordnet')\n",
    "# nltk.download('averaged_perceptron_tagger')"
   ]
  },
  {
   "cell_type": "code",
   "execution_count": 3,
   "metadata": {},
   "outputs": [
    {
     "data": {
      "text/plain": [
       "['The', 'Fulton', 'County', 'Grand', 'Jury', 'said', ...]"
      ]
     },
     "execution_count": 3,
     "metadata": {},
     "output_type": "execute_result"
    }
   ],
   "source": [
    "# test\n",
    "from nltk.corpus import brown # a common dataset\n",
    "brown.words()"
   ]
  },
  {
   "cell_type": "code",
   "execution_count": 4,
   "metadata": {},
   "outputs": [],
   "source": [
    "######################### Tokenization ######################################\n",
    "# the process by which big quantity of text is divided into smaller parts called tokens, such as words or sentences\n",
    "# these tokens are used afterwards to detect and find specific patterns in text\n",
    "# The required module is 'tokenize' (i.e. import nltk.tokenize)\n",
    "# tokenize is further compromises of sub-modules: (1) word tokenize and (2) sentence tokenize"
   ]
  },
  {
   "cell_type": "code",
   "execution_count": 5,
   "metadata": {},
   "outputs": [
    {
     "name": "stdout",
     "output_type": "stream",
     "text": [
      "['Hello', 'Mr.', 'Smith', ',', 'how', 'are', 'you', 'doing', 'today', '?', 'The', 'weather', 'is', 'great', ',', 'and', 'city', 'is', 'awesome', '.', 'The', 'sky', 'is', 'pinkish-blue', '.', 'You', 'should', \"n't\", 'eat', 'cardboard']\n"
     ]
    }
   ],
   "source": [
    "### (1) word tokenize\n",
    "# method word_tokenize() splits a sentence into words\n",
    "# example use: word frequency, converting txt into numerics \n",
    "from nltk.tokenize import word_tokenize\n",
    "\n",
    "text = \"\"\"Hello Mr. Smith, how are you doing today? The weather is great, and city is awesome.\n",
    "The sky is pinkish-blue. You shouldn't eat cardboard\"\"\"\n",
    "\n",
    "print(word_tokenize(text))"
   ]
  },
  {
   "cell_type": "code",
   "execution_count": 6,
   "metadata": {},
   "outputs": [
    {
     "name": "stdout",
     "output_type": "stream",
     "text": [
      "<FreqDist with 25 samples and 30 outcomes>\n"
     ]
    }
   ],
   "source": [
    "# Frequency Distribution example\n",
    "from nltk.probability import FreqDist\n",
    "fdist = FreqDist(word_tokenize(text))\n",
    "print(fdist);\n",
    "fdist.most_common(2);"
   ]
  },
  {
   "cell_type": "code",
   "execution_count": 7,
   "metadata": {},
   "outputs": [
    {
     "data": {
      "text/plain": [
       "<Figure size 640x480 with 1 Axes>"
      ]
     },
     "metadata": {},
     "output_type": "display_data"
    }
   ],
   "source": [
    "# Frequancy Distribution Plot\n",
    "import matplotlib.pyplot as plt\n",
    "fdist.plot(25) # 25 is the number of samples or words\n",
    "plt.show()"
   ]
  },
  {
   "cell_type": "code",
   "execution_count": 8,
   "metadata": {},
   "outputs": [
    {
     "name": "stdout",
     "output_type": "stream",
     "text": [
      "['Hello Mr. Smith, how are you doing today?', 'The weather is great, and city is awesome.', 'The sky is pinkish-blue.', \"You shouldn't eat cardboard\"]\n"
     ]
    }
   ],
   "source": [
    "### (2) senetence tokenize\n",
    "# method sent_tokenize() splits a text into sentences\n",
    "# example use: counting frequency of words per senternce\n",
    "\n",
    "from nltk.tokenize import sent_tokenize\n",
    "\n",
    "text = \"\"\"Hello Mr. Smith, how are you doing today? The weather is great, and city is awesome.\n",
    "The sky is pinkish-blue. You shouldn't eat cardboard\"\"\"\n",
    "\n",
    "print(sent_tokenize(text))"
   ]
  },
  {
   "cell_type": "code",
   "execution_count": 9,
   "metadata": {},
   "outputs": [
    {
     "name": "stdout",
     "output_type": "stream",
     "text": [
      "{'such', \"you've\", 'me', \"shan't\", \"mustn't\", 'there', 'doing', 'for', 'now', 'while', 'over', 'to', 'between', 'and', 'hers', 'o', 'too', \"aren't\", 'above', 'a', 'where', 've', 'was', \"don't\", 'who', 'up', 'shouldn', 'isn', \"should've\", 'until', 'just', 'my', 'from', 'why', 'being', 'mightn', 'himself', 'during', 'then', 'into', 'that', 'all', 'below', 'further', \"you'll\", 'any', 'each', 'myself', 'because', 'were', 'didn', 'he', 'her', 'itself', \"wouldn't\", 'does', \"won't\", \"isn't\", 'under', 're', 'has', 'at', 'will', \"you're\", 'more', 'this', 'some', 'll', 'been', 'hasn', 'needn', 'their', 'only', 'did', 'the', 'doesn', 'you', 'by', 'wasn', 'off', 'ours', 'him', 'down', 'yours', 't', 'they', 'so', 'very', 'both', 'hadn', 'theirs', 'are', 'out', \"that'll\", 'am', 'same', 'have', 'do', 'it', 'about', 'couldn', \"mightn't\", 'but', 'with', 'no', 'its', \"needn't\", 'those', 'in', 'we', 'haven', 'your', 'an', \"it's\", 'how', 'don', 'aren', \"haven't\", 'again', 'when', 'through', 'should', 'his', 's', 'ain', 'shan', 'having', 'can', 'once', \"weren't\", 'i', 'own', 'won', \"you'd\", 'yourself', 'or', \"couldn't\", \"hadn't\", \"she's\", 'here', 'herself', 'not', 'than', 'ma', 'she', \"hasn't\", 'wouldn', 'whom', 'is', 'on', 'which', 'as', 'd', 'our', 'against', 'ourselves', 'after', 'before', 'few', 'these', 'other', 'if', 'nor', 'them', \"shouldn't\", 'be', 'of', \"didn't\", 'mustn', 'y', 'yourselves', 'weren', 'had', 'm', \"doesn't\", 'most', 'what', 'themselves', \"wasn't\"}\n"
     ]
    }
   ],
   "source": [
    "############# Stop Words #######################\n",
    "# It's a good practice to clean text from stop words\n",
    "# If you'r not familiar with stop words, run the following code\n",
    "from nltk.corpus import stopwords\n",
    "stop_words = set(stopwords.words(\"english\"))\n",
    "print(stop_words)"
   ]
  },
  {
   "cell_type": "code",
   "execution_count": 10,
   "metadata": {},
   "outputs": [
    {
     "name": "stdout",
     "output_type": "stream",
     "text": [
      "Tokenized Sentence:  ['Hello', 'Mr.', 'Smith', ',', 'how', 'are', 'you', 'doing', 'today', '?', 'The', 'weather', 'is', 'great', ',', 'and', 'city', 'is', 'awesome', '.', 'The', 'sky', 'is', 'pinkish-blue', '.', 'You', 'should', \"n't\", 'eat', 'cardboard']\n",
      "Filtered Sentence:  ['Hello', 'Mr.', 'Smith', ',', 'today', '?', 'The', 'weather', 'great', ',', 'city', 'awesome', '.', 'The', 'sky', 'pinkish-blue', '.', 'You', \"n't\", 'eat', 'cardboard']\n"
     ]
    }
   ],
   "source": [
    "# Now, yo can clear tokenized words from stop words to work with only intersting ones\n",
    "t_words = word_tokenize(text)\n",
    "filtered_words = []\n",
    "for w in t_words:\n",
    "    if w not in stop_words:\n",
    "        filtered_words.append(w)\n",
    "print(\"Tokenized Sentence: \", t_words)\n",
    "print(\"Filtered Sentence: \", filtered_words)"
   ]
  },
  {
   "cell_type": "code",
   "execution_count": 11,
   "metadata": {},
   "outputs": [],
   "source": [
    "########################### POS Tagging (Part-Of-Speech) #####################################\n",
    "# read the text in a language and assigning some specific token (Parts of Speech) to each word.\n",
    "# Example::\n",
    "# Input: Everything to permit us.\n",
    "# Output: [('Everything', NN),('to', TO), ('permit', VB), ('us', PRP)]\n",
    "# for a list of abbreviatio look at: https://www.ling.upenn.edu/courses/Fall_2003/ling001/penn_treebank_pos.html"
   ]
  },
  {
   "cell_type": "code",
   "execution_count": 12,
   "metadata": {},
   "outputs": [
    {
     "name": "stdout",
     "output_type": "stream",
     "text": [
      "[('Hello', 'NNP'), ('Mr.', 'NNP'), ('Smith', 'NNP'), (',', ','), ('today', 'NN'), ('?', '.'), ('The', 'DT'), ('weather', 'NN'), ('great', 'JJ'), (',', ','), ('city', 'NN'), ('awesome', 'NN'), ('.', '.'), ('The', 'DT'), ('sky', 'JJ'), ('pinkish-blue', 'NN'), ('.', '.'), ('You', 'PRP'), (\"n't\", 'RB'), ('eat', 'VB'), ('cardboard', 'NN')]\n"
     ]
    }
   ],
   "source": [
    "# import pos_tag module\n",
    "# get a set of word_tokenize, then apply pos_tag() method\n",
    "from nltk import pos_tag\n",
    "\n",
    "token_tags = pos_tag(filtered_words)\n",
    "print(token_tags)"
   ]
  },
  {
   "cell_type": "code",
   "execution_count": 13,
   "metadata": {},
   "outputs": [
    {
     "name": "stdout",
     "output_type": "stream",
     "text": [
      "(S\n",
      "  (mychunk Hello/NNP Mr./NNP Smith/NNP)\n",
      "  ,/,\n",
      "  (mychunk today/NN)\n",
      "  ?/.\n",
      "  The/DT\n",
      "  (mychunk weather/NN)\n",
      "  great/JJ\n",
      "  ,/,\n",
      "  (mychunk city/NN awesome/NN)\n",
      "  ./.\n",
      "  The/DT\n",
      "  sky/JJ)\n"
     ]
    }
   ],
   "source": [
    "############################## Chunking ######################################\n",
    "# add more structure to the sentence by following parts of speech (POS) tagging\n",
    "# For example, you need to tag Noun, verb (past tense), adjective, and coordinating junction from the sentence. \n",
    "from nltk import RegexpParser\n",
    "pattern = \"\"\"mychunk:{<NN.?>*<VBD.?>*<NNP.?>*<VB.?>*}\"\"\"\n",
    "chunker = RegexpParser(pattern)\n",
    "chunkes_words = chunker.parse(token_tags[:15])\n",
    "print(chunkes_words)\n",
    "chunkes_words.draw()"
   ]
  },
  {
   "cell_type": "code",
   "execution_count": 14,
   "metadata": {},
   "outputs": [
    {
     "name": "stdout",
     "output_type": "stream",
     "text": [
      "wait\n",
      "wait\n",
      "wait\n",
      "wait\n"
     ]
    }
   ],
   "source": [
    "######################### Stemming ##############################\n",
    "# reduces words to their word root word\n",
    "# Example: the root word is \"eat\" and it's variations are \"eats, eating, eaten and like so\".\n",
    "# \"PorterStemmer\": This algorithm accepts the list of tokenized word and stems it into root word.\n",
    "\n",
    "from nltk.stem import PorterStemmer\n",
    "words= [\"wait\", \"waiting\", \"waited\", \"waits\"]\n",
    "ps =PorterStemmer()\n",
    "for w in words:\n",
    "    rootWord=ps.stem(w)\n",
    "    print(rootWord)"
   ]
  },
  {
   "cell_type": "code",
   "execution_count": 15,
   "metadata": {},
   "outputs": [
    {
     "name": "stdout",
     "output_type": "stream",
     "text": [
      "hello\n",
      "mr.\n",
      "smith\n",
      ",\n",
      "today\n",
      "?\n",
      "the\n",
      "weather\n",
      "great\n",
      ",\n",
      "citi\n",
      "awesom\n",
      ".\n",
      "the\n",
      "sky\n",
      "pinkish-blu\n",
      ".\n",
      "you\n",
      "n't\n",
      "eat\n",
      "cardboard\n"
     ]
    }
   ],
   "source": [
    "# let's try on our t_words\n",
    "for w in filtered_words:\n",
    "    rootWord=ps.stem(w)\n",
    "    print(rootWord)"
   ]
  },
  {
   "cell_type": "code",
   "execution_count": 16,
   "metadata": {},
   "outputs": [
    {
     "name": "stdout",
     "output_type": "stream",
     "text": [
      "Hello\n",
      "Mr.\n",
      "Smith\n",
      ",\n",
      "today\n",
      "?\n",
      "The\n",
      "weather\n",
      "great\n",
      ",\n",
      "city\n",
      "awesome\n",
      ".\n",
      "The\n",
      "sky\n",
      "pinkish-blue\n",
      ".\n",
      "You\n",
      "n't\n",
      "eat\n",
      "cardboard\n"
     ]
    }
   ],
   "source": [
    "############################### Lemmatization ###############################\n",
    "# finding the lemma of a word depending on their meaning.\n",
    "# lemmatization implies doing proper reduction to the dictionary\n",
    "from nltk.stem import WordNetLemmatizer\n",
    "\n",
    "lem = WordNetLemmatizer()\n",
    "for w in filtered_words:\n",
    "    print(lem.lemmatize(w))"
   ]
  },
  {
   "cell_type": "code",
   "execution_count": 17,
   "metadata": {},
   "outputs": [
    {
     "name": "stdout",
     "output_type": "stream",
     "text": [
      "Stemming for studies is studi\n",
      "Lemma for studies is study\n",
      "------------\n",
      "Stemming for studying is studi\n",
      "Lemma for studying is studying\n",
      "------------\n",
      "Stemming for cries is cri\n",
      "Lemma for cries is cry\n",
      "------------\n",
      "Stemming for cry is cri\n",
      "Lemma for cry is cry\n",
      "------------\n"
     ]
    }
   ],
   "source": [
    "########### Stemming vs. Lemmatization ##################\n",
    "# Stemming algorithm works by cutting the suffix from the word, cuts either the beginning or end of the word.\n",
    "# Lemmatization takes into consideration morphological analysis of the words. \n",
    "\n",
    "text = \"studies studying cries cry\"\n",
    "tokenization = word_tokenize(text)\n",
    "\n",
    "for w in tokenization:\n",
    "    print(\"Stemming for {} is {}\".format(w,ps.stem(w)))  \n",
    "    print(\"Lemma for {} is {}\\n------------\".format(w, lem.lemmatize(w)))\n"
   ]
  },
  {
   "cell_type": "code",
   "execution_count": null,
   "metadata": {},
   "outputs": [],
   "source": []
  }
 ],
 "metadata": {
  "kernelspec": {
   "display_name": "Python 3",
   "language": "python",
   "name": "python3"
  },
  "language_info": {
   "codemirror_mode": {
    "name": "ipython",
    "version": 3
   },
   "file_extension": ".py",
   "mimetype": "text/x-python",
   "name": "python",
   "nbconvert_exporter": "python",
   "pygments_lexer": "ipython3",
   "version": "3.7.1"
  }
 },
 "nbformat": 4,
 "nbformat_minor": 2
}
