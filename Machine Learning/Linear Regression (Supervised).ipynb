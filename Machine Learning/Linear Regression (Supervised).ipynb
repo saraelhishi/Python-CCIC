{
 "cells": [
  {
   "cell_type": "code",
   "execution_count": 1,
   "metadata": {},
   "outputs": [],
   "source": [
    "################################ Linear Regression ################################\n",
    "# predicts a dependent variable value (y) based on a given independent variable (x)\n",
    "# If we plot the independent variable (x) on the x-axis and dependent variable (y) on the y-axis, \n",
    "# then linear regression gives us a straight line that best fits the data points\n",
    "# using the line equation (Y= mx + b), what the linear regression algorithm does is it \n",
    "# fits multiple lines on the data points and returns the line that results in the least error.\n",
    "######################################################################################"
   ]
  },
  {
   "cell_type": "code",
   "execution_count": 2,
   "metadata": {},
   "outputs": [],
   "source": [
    "# Required modules\n",
    "import pandas as pd\n",
    "import numpy as np\n",
    "import matplotlib.pyplot as plt\n",
    "import seaborn as sns\n",
    "# scikit-learn : the python library for machine learning tasks\n",
    "import sklearn "
   ]
  },
  {
   "cell_type": "code",
   "execution_count": 3,
   "metadata": {},
   "outputs": [
    {
     "data": {
      "text/plain": [
       "<matplotlib.collections.PathCollection at 0x259c7e295c0>"
      ]
     },
     "execution_count": 3,
     "metadata": {},
     "output_type": "execute_result"
    },
    {
     "data": {
      "image/png": "[encoded data removed]",
      "text/plain": [
       "<Figure size 432x288 with 1 Axes>"
      ]
     },
     "metadata": {},
     "output_type": "display_data"
    }
   ],
   "source": [
    "sns.set()\n",
    "### simple linear regression example\n",
    "rng = np.random.RandomState(42)\n",
    "x = 10 * rng.rand(50)\n",
    "y = 2 * x - 1 + rng.randn(50)\n",
    "plt.scatter(x,y)"
   ]
  },
  {
   "cell_type": "code",
   "execution_count": 4,
   "metadata": {},
   "outputs": [],
   "source": [
    "# 1- choose a class model\n",
    "from sklearn.linear_model import LinearRegression"
   ]
  },
  {
   "cell_type": "code",
   "execution_count": 5,
   "metadata": {},
   "outputs": [
    {
     "data": {
      "text/plain": [
       "LinearRegression(copy_X=True, fit_intercept=True, n_jobs=None,\n",
       "         normalize=False)"
      ]
     },
     "execution_count": 5,
     "metadata": {},
     "output_type": "execute_result"
    }
   ],
   "source": [
    "# 2- choose hyperparameters ... values intitation (parameters that must be set before the model is fit to data.)\n",
    "# we would like to fit the intercept using the fit intercept hyperparameter\n",
    "model = LinearRegression(fit_intercept=True)\n",
    "model"
   ]
  },
  {
   "cell_type": "code",
   "execution_count": 6,
   "metadata": {},
   "outputs": [
    {
     "data": {
      "text/plain": [
       "(50, 1)"
      ]
     },
     "execution_count": 6,
     "metadata": {},
     "output_type": "execute_result"
    }
   ],
   "source": [
    "# 3-  Arrange data into a features matrix and target vector (i.e. X matrix and y vector)\n",
    "# the y vector already exists, we need here to re-construct X as matrix\n",
    "X = x[:, np.newaxis] # np.newaxis converts 1D array to a column or a row vector\n",
    "X.shape"
   ]
  },
  {
   "cell_type": "code",
   "execution_count": 7,
   "metadata": {},
   "outputs": [
    {
     "data": {
      "text/plain": [
       "LinearRegression(copy_X=True, fit_intercept=True, n_jobs=None,\n",
       "         normalize=False)"
      ]
     },
     "execution_count": 7,
     "metadata": {},
     "output_type": "execute_result"
    }
   ],
   "source": [
    "# 4- Fit the model to your data (training)\n",
    "# try X to y on the line equation : y= mx + b to get the best fit intercept and slope\n",
    "model.fit(X, y)"
   ]
  },
  {
   "cell_type": "code",
   "execution_count": 8,
   "metadata": {},
   "outputs": [
    {
     "data": {
      "text/plain": [
       "(50, 1)"
      ]
     },
     "execution_count": 8,
     "metadata": {},
     "output_type": "execute_result"
    }
   ],
   "source": [
    "# 5- Predict labels for unknown data\n",
    "# create test data\n",
    "xfit = np.linspace(-1,11)\n",
    "Xfit = xfit[:, np.newaxis]\n",
    "Xfit.shape"
   ]
  },
  {
   "cell_type": "code",
   "execution_count": 9,
   "metadata": {},
   "outputs": [
    {
     "data": {
      "text/plain": [
       "array([-2.88096733, -2.39664326, -1.9123192 , -1.42799513, -0.94367106,\n",
       "       -0.459347  ,  0.02497707,  0.50930113,  0.9936252 ,  1.47794926,\n",
       "        1.96227333,  2.44659739,  2.93092146,  3.41524552,  3.89956959,\n",
       "        4.38389366,  4.86821772,  5.35254179,  5.83686585,  6.32118992,\n",
       "        6.80551398,  7.28983805,  7.77416211,  8.25848618,  8.74281024,\n",
       "        9.22713431,  9.71145837, 10.19578244, 10.68010651, 11.16443057,\n",
       "       11.64875464, 12.1330787 , 12.61740277, 13.10172683, 13.5860509 ,\n",
       "       14.07037496, 14.55469903, 15.03902309, 15.52334716, 16.00767122,\n",
       "       16.49199529, 16.97631936, 17.46064342, 17.94496749, 18.42929155,\n",
       "       18.91361562, 19.39793968, 19.88226375, 20.36658781, 20.85091188])"
      ]
     },
     "execution_count": 9,
     "metadata": {},
     "output_type": "execute_result"
    }
   ],
   "source": [
    "# predict using the y\n",
    "yPrediction = model.predict(Xfit)\n",
    "yPrediction"
   ]
  },
  {
   "cell_type": "code",
   "execution_count": 10,
   "metadata": {},
   "outputs": [
    {
     "data": {
      "text/plain": [
       "<matplotlib.collections.PathCollection at 0x259c973abe0>"
      ]
     },
     "execution_count": 10,
     "metadata": {},
     "output_type": "execute_result"
    },
    {
     "data": {
      "image/png": "[encoded data removed]",
      "text/plain": [
       "<Figure size 432x288 with 1 Axes>"
      ]
     },
     "metadata": {},
     "output_type": "display_data"
    }
   ],
   "source": [
    "# Finally, visualize input , then results after prediction\n",
    "plt.scatter(x,y); plt.scatter(Xfit, yPrediction)"
   ]
  },
  {
   "cell_type": "code",
   "execution_count": 12,
   "metadata": {},
   "outputs": [
    {
     "name": "stdout",
     "output_type": "stream",
     "text": [
      "Intercept b: -0.9033107255311164\n",
      "model slope m: [1.9776566]\n"
     ]
    }
   ],
   "source": [
    "# interpreting model parameters is much more a statistical modeling question than a machine learning question\n",
    "# here, we may be interset in knowing best slope and intercept values that makes that fit\n",
    "print('Intercept b:', model.intercept_); print('model slope m:', model.coef_)"
   ]
  },
  {
   "cell_type": "code",
   "execution_count": null,
   "metadata": {},
   "outputs": [],
   "source": []
  }
 ],
 "metadata": {
  "kernelspec": {
   "display_name": "Python 3",
   "language": "python",
   "name": "python3"
  },
  "language_info": {
   "codemirror_mode": {
    "name": "ipython",
    "version": 3
   },
   "file_extension": ".py",
   "mimetype": "text/x-python",
   "name": "python",
   "nbconvert_exporter": "python",
   "pygments_lexer": "ipython3",
   "version": "3.7.1"
  }
 },
 "nbformat": 4,
 "nbformat_minor": 2
}
