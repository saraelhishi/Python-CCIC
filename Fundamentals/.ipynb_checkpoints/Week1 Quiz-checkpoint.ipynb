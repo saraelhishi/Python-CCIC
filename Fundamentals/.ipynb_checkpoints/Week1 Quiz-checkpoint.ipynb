{
 "cells": [
  {
   "cell_type": "code",
   "execution_count": 2,
   "metadata": {},
   "outputs": [
    {
     "name": "stdout",
     "output_type": "stream",
     "text": [
      " Rock a by baby,\n",
      "\ton the tree top,\\when the wind blows\n",
      "\t\t\t the cradle will drop.\n"
     ]
    }
   ],
   "source": [
    "# In your python shell, write down the following code. What do you think you are likely to change in the string so that it can b displayed more nicely?\n",
    "print(' Rock a by baby,\\n\\ton the tree top,\\when the wind blows\\n\\t\\t\\t the cradle will drop.')"
   ]
  },
  {
   "cell_type": "code",
   "execution_count": 20,
   "metadata": {},
   "outputs": [
    {
     "data": {
      "text/plain": [
       "True"
      ]
     },
     "execution_count": 20,
     "metadata": {},
     "output_type": "execute_result"
    }
   ],
   "source": [
    "# What is the outcome of running the following line code\n",
    "False < 1"
   ]
  },
  {
   "cell_type": "code",
   "execution_count": 1,
   "metadata": {},
   "outputs": [
    {
     "data": {
      "text/plain": [
       "'fifth'"
      ]
     },
     "execution_count": 1,
     "metadata": {},
     "output_type": "execute_result"
    }
   ],
   "source": [
    "# Having the tuple \"a = ('first', 'second', 'third', 'fourth','fifth')\"\". What is the expected output of running \"a[len(a) - 1]\"\"\n",
    "a = ('first', 'second', 'third','fourth','fifth')\n",
    "a[len(a) - 1]"
   ]
  },
  {
   "cell_type": "code",
   "execution_count": 2,
   "metadata": {},
   "outputs": [
    {
     "data": {
      "text/plain": [
       "'third'"
      ]
     },
     "execution_count": 2,
     "metadata": {},
     "output_type": "execute_result"
    }
   ],
   "source": [
    "# Having the same tuple \"a\" in question (), What is the value of the element at a[-3]\n",
    "a[-3]"
   ]
  },
  {
   "cell_type": "code",
   "execution_count": 3,
   "metadata": {},
   "outputs": [
    {
     "data": {
      "text/plain": [
       "7"
      ]
     },
     "execution_count": 3,
     "metadata": {},
     "output_type": "execute_result"
    }
   ],
   "source": [
    "# Let's consider a list such as \"breakfast = [ 'coffee', 'tea', 'toast', 'egg' ]\". What is the expected length of the list after running the code line \"\"breakfast.extend(['juice', 'decaf', 'oatmeal'])\n",
    "breakfast = [ 'coffee', 'tea', 'toast', 'egg' ]\n",
    "breakfast.extend(['juice', 'decaf', 'oatmeal'])\n",
    "len(breakfast)"
   ]
  },
  {
   "cell_type": "code",
   "execution_count": 29,
   "metadata": {},
   "outputs": [
    {
     "data": {
      "text/plain": [
       "['tea', 'toast']"
      ]
     },
     "execution_count": 29,
     "metadata": {},
     "output_type": "execute_result"
    }
   ],
   "source": [
    "# What is the appropriate slicing criteria you should use on the \"breakfast\" list above to get third and forth elements only\n",
    "breakfast[1:3]"
   ]
  },
  {
   "cell_type": "code",
   "execution_count": 19,
   "metadata": {},
   "outputs": [
    {
     "data": {
      "text/plain": [
       "'lunch'"
      ]
     },
     "execution_count": 19,
     "metadata": {},
     "output_type": "execute_result"
    }
   ],
   "source": [
    "# Having the dictionary menu such that \"menu = {'breakfast':'Egg omelet', 'lunch':'Spaghetti meat balls', 'dinner': 'Grilled chicken'}\"\n",
    "# What is the outcome of \"list(menu.keys())[1]\"\n",
    "menu = {'breakfast':'Egg omelet', 'lunch':'Spaghetti meat balls', 'dinner': 'Grilled chicken'}\n",
    "list(menu.keys())[1]"
   ]
  },
  {
   "cell_type": "code",
   "execution_count": 32,
   "metadata": {},
   "outputs": [
    {
     "name": "stdout",
     "output_type": "stream",
     "text": [
      "True\n"
     ]
    }
   ],
   "source": [
    "# In your python shell evaluate the following code and choose the correct answer\n",
    "str1 = 'hello world'\n",
    "str2 = 'python world'\n",
    "if str1[-len('apples'):-1] == str2[-len('apples'):-1]:\n",
    "    print(True)\n",
    "elif str1[-len('apples'):-1] != str2[-len('apples'):-1]:\n",
    "    print(False)\n",
    "else:\n",
    "    print('Unknown')"
   ]
  },
  {
   "cell_type": "code",
   "execution_count": null,
   "metadata": {},
   "outputs": [],
   "source": []
  }
 ],
 "metadata": {
  "kernelspec": {
   "display_name": "Python 3",
   "language": "python",
   "name": "python3"
  },
  "language_info": {
   "codemirror_mode": {
    "name": "ipython",
    "version": 3
   },
   "file_extension": ".py",
   "mimetype": "text/x-python",
   "name": "python",
   "nbconvert_exporter": "python",
   "pygments_lexer": "ipython3",
   "version": "3.7.1"
  }
 },
 "nbformat": 4,
 "nbformat_minor": 2
}
