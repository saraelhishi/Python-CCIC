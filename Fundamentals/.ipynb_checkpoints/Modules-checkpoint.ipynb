{
 "cells": [
  {
   "cell_type": "code",
   "execution_count": 1,
   "metadata": {},
   "outputs": [],
   "source": [
    "#################### Modules ######################\n",
    "# A module in python is just a library that contatins custom build-in functions \n",
    "# For example, 'math' module contains custom mathematical functions\n",
    "# Use the 'import' keyword to call a custom library"
   ]
  },
  {
   "cell_type": "code",
   "execution_count": 2,
   "metadata": {},
   "outputs": [
    {
     "data": {
      "text/plain": [
       "5.0"
      ]
     },
     "execution_count": 2,
     "metadata": {},
     "output_type": "execute_result"
    }
   ],
   "source": [
    "import math\n",
    "math.sqrt(25)"
   ]
  },
  {
   "cell_type": "code",
   "execution_count": 3,
   "metadata": {},
   "outputs": [
    {
     "data": {
      "text/plain": [
       "5.0"
      ]
     },
     "execution_count": 3,
     "metadata": {},
     "output_type": "execute_result"
    }
   ],
   "source": [
    "import math as m\n",
    "m.sqrt(25)"
   ]
  },
  {
   "cell_type": "code",
   "execution_count": 12,
   "metadata": {},
   "outputs": [
    {
     "name": "stdout",
     "output_type": "stream",
     "text": [
      "84\n",
      "21\n",
      "5\n",
      "67\n",
      "63\n",
      "42\n",
      "10\n",
      "32\n",
      "96\n",
      "47\n"
     ]
    }
   ],
   "source": [
    "# random module\n",
    "# display 10 random numbers in the range of 1 to 100\n",
    "import random\n",
    "for i in range(10):\n",
    "    n = random.randint(1,100)\n",
    "    print(n)"
   ]
  },
  {
   "cell_type": "code",
   "execution_count": 9,
   "metadata": {},
   "outputs": [
    {
     "data": {
      "text/plain": [
       "int"
      ]
     },
     "execution_count": 9,
     "metadata": {},
     "output_type": "execute_result"
    }
   ],
   "source": [
    "# get an odd random number between 5 and 50\n",
    "# randrange(start, end, step)\n",
    "type(random.randrange(5,50,2))"
   ]
  },
  {
   "cell_type": "code",
   "execution_count": 13,
   "metadata": {},
   "outputs": [
    {
     "name": "stdout",
     "output_type": "stream",
     "text": [
      "74\n",
      "5\n",
      "55\n",
      "62\n",
      "74\n",
      "2\n",
      "27\n",
      "60\n",
      "63\n",
      "36\n"
     ]
    }
   ],
   "source": [
    "# Random seed\n",
    "# define a seed for the random() function will generate the same random sequence each time we run\n",
    "# Again, but this time let's specify a seed value\n",
    "random.seed(10)\n",
    "for i in range(10):\n",
    "    n = random.randint(1,100)\n",
    "    print(n)"
   ]
  },
  {
   "cell_type": "code",
   "execution_count": 11,
   "metadata": {},
   "outputs": [],
   "source": [
    "################### Defining your own modules ###########################\n",
    "# Dividing your program into a set of small modules is a good programming practice that makes testing and maintance easy\n",
    "# Go a head and define a new python file that contains a set of functions,\n",
    "# then simply 'import' it into your current script. All of the defined module's functions are ready to use"
   ]
  },
  {
   "cell_type": "code",
   "execution_count": 5,
   "metadata": {},
   "outputs": [
    {
     "name": "stdout",
     "output_type": "stream",
     "text": [
      "45\n"
     ]
    }
   ],
   "source": [
    "import myModule as m\n",
    "print(m.myFunction())"
   ]
  }
 ],
 "metadata": {
  "kernelspec": {
   "display_name": "Python 3",
   "language": "python",
   "name": "python3"
  },
  "language_info": {
   "codemirror_mode": {
    "name": "ipython",
    "version": 3
   },
   "file_extension": ".py",
   "mimetype": "text/x-python",
   "name": "python",
   "nbconvert_exporter": "python",
   "pygments_lexer": "ipython3",
   "version": "3.7.1"
  }
 },
 "nbformat": 4,
 "nbformat_minor": 2
}
