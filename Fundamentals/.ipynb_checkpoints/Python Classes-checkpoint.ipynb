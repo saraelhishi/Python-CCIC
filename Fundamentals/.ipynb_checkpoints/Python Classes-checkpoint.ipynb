{
 "cells": [
  {
   "cell_type": "code",
   "execution_count": 2,
   "metadata": {},
   "outputs": [],
   "source": [
    "##################### OOP #######################"
   ]
  },
  {
   "cell_type": "code",
   "execution_count": 1,
   "metadata": {},
   "outputs": [],
   "source": [
    "class Player:\n",
    "    \n",
    "    ######### Initialization Function, run automatically once an instance created \n",
    "    # the self argument refer to the object that will be created from the class\n",
    "    def __init__(self, name, age):\n",
    "        self.name= name\n",
    "        self.age = age\n",
    "        self.is_active = False\n",
    "        \n",
    "    ####### print player information\n",
    "    def printInfo(self):\n",
    "        print('Player ', self.name, ' is ', self.age, ' years old.\\nPlayer status is ', self.is_active)\n",
    "    \n",
    "    ###### Change player status\n",
    "    def changeStatus(self):\n",
    "        if self.is_active == True:\n",
    "            self.is_active = False\n",
    "        else:\n",
    "            self.is_active = True"
   ]
  },
  {
   "cell_type": "code",
   "execution_count": 4,
   "metadata": {},
   "outputs": [],
   "source": [
    "def main():\n",
    "    p_1 = Player('Sam', 21)\n",
    "    p_1.printInfo()\n",
    "    #p_1.changeStatus()\n",
    "    #p_1.printInfo()"
   ]
  },
  {
   "cell_type": "code",
   "execution_count": 5,
   "metadata": {},
   "outputs": [
    {
     "name": "stdout",
     "output_type": "stream",
     "text": [
      "Player  Sam  is  21  years old.\n",
      "Player status is  False\n"
     ]
    }
   ],
   "source": [
    "main()"
   ]
  },
  {
   "cell_type": "code",
   "execution_count": 45,
   "metadata": {},
   "outputs": [],
   "source": [
    "#### Inheritance\n",
    "class Runner(Player):\n",
    "    \n",
    "    def run(self, speed):\n",
    "        self.speed = speed\n",
    "        \n",
    "    def printRunner(self):\n",
    "        print('Player ', self.name, ' speed: ', self.speed)"
   ]
  },
  {
   "cell_type": "code",
   "execution_count": 48,
   "metadata": {},
   "outputs": [],
   "source": [
    "def mainRunner():\n",
    "    runner_1 = Runner('mat', 30) #inherited from 'Player' class\n",
    "    runner_1.run(10)\n",
    "    runner_1.printRunner()"
   ]
  },
  {
   "cell_type": "code",
   "execution_count": 49,
   "metadata": {},
   "outputs": [
    {
     "name": "stdout",
     "output_type": "stream",
     "text": [
      "Player  mat  speed:  10\n"
     ]
    }
   ],
   "source": [
    "mainRunner()"
   ]
  },
  {
   "cell_type": "code",
   "execution_count": null,
   "metadata": {},
   "outputs": [],
   "source": []
  }
 ],
 "metadata": {
  "kernelspec": {
   "display_name": "Python 3",
   "language": "python",
   "name": "python3"
  },
  "language_info": {
   "codemirror_mode": {
    "name": "ipython",
    "version": 3
   },
   "file_extension": ".py",
   "mimetype": "text/x-python",
   "name": "python",
   "nbconvert_exporter": "python",
   "pygments_lexer": "ipython3",
   "version": "3.7.1"
  }
 },
 "nbformat": 4,
 "nbformat_minor": 2
}
