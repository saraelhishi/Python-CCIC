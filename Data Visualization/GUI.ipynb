{
 "cells": [
  {
   "cell_type": "code",
   "execution_count": 3,
   "metadata": {},
   "outputs": [],
   "source": [
    "#import tkinter \n",
    "from tkinter import *"
   ]
  },
  {
   "cell_type": "code",
   "execution_count": 4,
   "metadata": {},
   "outputs": [],
   "source": [
    "# start to show a window\n",
    "window = Tk()\n",
    "window.title('Simple GUI')\n",
    "window.mainloop()"
   ]
  },
  {
   "cell_type": "code",
   "execution_count": 6,
   "metadata": {},
   "outputs": [],
   "source": [
    "### adding widgets\n",
    "window = Tk()\n",
    "window.title('Simple GUI')\n",
    "# create a label\n",
    "#lbl = Label(window, text='Welcome')\n",
    "lbl = Label(window, text='Welocme', font=('Tahoma', 20))\n",
    "# setting it on the window using grid layout\n",
    "lbl.grid(column=0, row=0)\n",
    "window.mainloop()"
   ]
  },
  {
   "cell_type": "code",
   "execution_count": 7,
   "metadata": {},
   "outputs": [],
   "source": [
    "window = Tk()\n",
    "window.title('Simple GUI')\n",
    "# set window size\n",
    "window.geometry('350x200')\n",
    "# create a label\n",
    "lbl = Label(window, text='Welcome')\n",
    "#lbl = Label(window, text='Welocme', font=('Tahoma', 20))\n",
    "# setting it on the window using grid layout\n",
    "lbl.grid(column=0, row=0)\n",
    "window.mainloop()"
   ]
  },
  {
   "cell_type": "code",
   "execution_count": 9,
   "metadata": {},
   "outputs": [],
   "source": [
    "# Adding Buttons\n",
    "window = Tk()\n",
    "window.title('Simple GUI')\n",
    "lbl = Label(window, text='Welcome', font=('Tahoma', 9))\n",
    "lbl.grid(column=0, row=0)\n",
    "# adding button\n",
    "#btn = Button(window, text='Click!!!')\n",
    "btn = Button(window, text='Click!!!', fg='red', bg='yellow', font=('Tahoma', 9))\n",
    "btn.grid(column=1, row=0)\n",
    "window.mainloop()"
   ]
  },
  {
   "cell_type": "code",
   "execution_count": 10,
   "metadata": {},
   "outputs": [],
   "source": [
    "### handle buttons using functions: define your function and pass it to the button 'command'\n",
    "\n",
    "##################### functions ########################\n",
    "# let's say we want to change label text after clicking the button\n",
    "def hello():\n",
    "    lbl.configure(text='Hello !!!!!!')\n",
    "    \n",
    "############################ window\n",
    "window = Tk()\n",
    "window.title('Simple GUI')\n",
    "lbl = Label(window, text='Welcome', font=('Tahoma', 9))\n",
    "lbl.grid(column=0, row=0)\n",
    "btn = Button(window, text='Click!!!', fg='red', bg='yellow', \n",
    "             font=('Tahoma', 9), command=hello) # note: no () after calling hello\n",
    "btn.grid(column=1, row=0)\n",
    "window.mainloop()"
   ]
  },
  {
   "cell_type": "code",
   "execution_count": 11,
   "metadata": {},
   "outputs": [],
   "source": [
    "### Adding text entry\n",
    "##################### functions ########################\n",
    "# let's say we want to change label text after clicking the button\n",
    "def hello():\n",
    "    lbl.configure(text='Hello !!!!!!')\n",
    "    \n",
    "############################ window\n",
    "window = Tk()\n",
    "window.title('Simple GUI')\n",
    "lbl = Label(window, text='Welcome', font=('Tahoma', 9))\n",
    "lbl.grid(column=0, row=0)\n",
    "# text entry\n",
    "txt = Entry(window, width=10)\n",
    "txt.focus()\n",
    "txt.grid(column=1, row=0)\n",
    "btn = Button(window, text='Click!!!', fg='red', bg='yellow', font=('Tahoma', 9), command=hello) \n",
    "# note: you need to change button location on the grid\n",
    "btn.grid(column=0, row=1)\n",
    "window.mainloop()"
   ]
  },
  {
   "cell_type": "code",
   "execution_count": 12,
   "metadata": {},
   "outputs": [],
   "source": [
    "### getting text entry\n",
    "##################### functions ########################\n",
    "# let's say we want to change label text after clicking the button\n",
    "def hello():\n",
    "    lbl.configure(text='Hello !!!!!!'+ txt.get())\n",
    "    txt.configure(state='disabled')\n",
    "############################ window\n",
    "window = Tk()\n",
    "window.title('Simple GUI')\n",
    "lbl = Label(window, text='Welcome', font=('Tahoma', 9))\n",
    "lbl.grid(column=0, row=0)\n",
    "# text entry\n",
    "txt = Entry(window, width=10)\n",
    "txt.grid(column=1, row=0)\n",
    "btn = Button(window, text='Click!!!', fg='red', bg='yellow', font=('Tahoma', 9), command=hello) \n",
    "btn.grid(column=0, row=1)\n",
    "window.mainloop()"
   ]
  },
  {
   "cell_type": "code",
   "execution_count": 13,
   "metadata": {},
   "outputs": [],
   "source": [
    "#### set window size\n",
    "##################### functions ########################\n",
    "# let's say we want to change label text after clicking the button\n",
    "def hello():\n",
    "    lbl.configure(text='Hello !!!!!!'+ txt.get())\n",
    "    txt.configure(state='disabled')\n",
    "############################ window\n",
    "window = Tk()\n",
    "window.title('Simple GUI')\n",
    "### window\n",
    "window.geometry('350x200') # note: its the 'x' character not the product sign\n",
    "lbl = Label(window, text='Welcome', font=('Tahoma', 9))\n",
    "lbl.grid(column=0, row=0)\n",
    "# text entry\n",
    "txt = Entry(window, width=10)\n",
    "txt.grid(column=1, row=0)\n",
    "btn = Button(window, text='Click!!!', fg='red', bg='yellow', font=('Tahoma', 9), command=hello) \n",
    "btn.grid(column=0, row=1)\n",
    "window.mainloop()"
   ]
  },
  {
   "cell_type": "code",
   "execution_count": null,
   "metadata": {},
   "outputs": [],
   "source": []
  },
  {
   "cell_type": "code",
   "execution_count": 14,
   "metadata": {},
   "outputs": [],
   "source": [
    "### check boxes \n",
    "window = Tk()\n",
    "window.title('Simple GUI')\n",
    "### window\n",
    "window.geometry('350x200')\n",
    "lbl = Label(window, text='Choose :', font=('Tahoma', 9))\n",
    "lbl.grid(column=0, row=0)\n",
    "chk = Checkbutton(window, text='option 1')\n",
    "chk.grid(column=1, row=0)\n",
    "chk = Checkbutton(window, text='option 2')\n",
    "chk.grid(column=2, row=0)\n",
    "chk = Checkbutton(window, text='option 3')\n",
    "chk.grid(column=3, row=0)\n",
    "window.mainloop()"
   ]
  },
  {
   "cell_type": "code",
   "execution_count": 15,
   "metadata": {},
   "outputs": [],
   "source": [
    "### handle checkboxes\n",
    "### check boxes \n",
    "window = Tk()\n",
    "window.title('Simple GUI')\n",
    "### window\n",
    "window.geometry('350x200')\n",
    "lbl = Label(window, text='Choose :', font=('Tahoma', 9))\n",
    "lbl.grid(column=0, row=0)\n",
    "# define a boolean variable\n",
    "chk_state = BooleanVar()\n",
    "chk_state.set(True) #set check state\n",
    "chk = Checkbutton(window, text='option 1', var=chk_state) # pass it as a variable for the checkbox\n",
    "chk.grid(column=1, row=0)\n",
    "chk = Checkbutton(window, text='option 2')\n",
    "chk.grid(column=2, row=0)\n",
    "chk = Checkbutton(window, text='option 3')\n",
    "chk.grid(column=3, row=0)\n",
    "window.mainloop()"
   ]
  },
  {
   "cell_type": "code",
   "execution_count": 16,
   "metadata": {},
   "outputs": [],
   "source": [
    "### radio buttons \n",
    "window = Tk()\n",
    "window.title('Simple GUI')\n",
    "### window\n",
    "window.geometry('350x200')\n",
    "lbl = Label(window, text='Choose :', font=('Tahoma', 9))\n",
    "lbl.grid(column=0, row=0)\n",
    "rad1 = Radiobutton(window,text='Yes', value=1)\n",
    "rad1.grid(column=1, row=0)\n",
    "rad2 = Radiobutton(window,text='No', value=2)\n",
    "rad2.grid(column=2, row=0)\n",
    "window.mainloop()"
   ]
  },
  {
   "cell_type": "code",
   "execution_count": 17,
   "metadata": {},
   "outputs": [],
   "source": [
    "## Message Boxes\n",
    "from tkinter import messagebox\n",
    "window = Tk()\n",
    "window.title('Simple GUI')\n",
    "window.geometry('350x200')\n",
    "#################3\n",
    "def clicked():\n",
    "    messagebox.showinfo('Wecome', \n",
    "                        'This is a notification message')\n",
    "    \n",
    "###############\n",
    "btn = Button(window,text='Click here', command=clicked)\n",
    "btn.grid(column=0,row=0)\n",
    " \n",
    "window.mainloop()"
   ]
  },
  {
   "cell_type": "code",
   "execution_count": 22,
   "metadata": {},
   "outputs": [],
   "source": [
    "## Ask Message\n",
    "from tkinter import messagebox\n",
    "window = Tk()\n",
    "window.title('Simple GUI')\n",
    "window.geometry('350x200')\n",
    "#################3\n",
    "def clicked():\n",
    "    messagebox.showinfo('Wecome', 'This is a notification message')\n",
    "    response = messagebox.askquestion(\"Simple Question\", \"Are you sure?\")\n",
    "    # If user clicks 'Yes' then it returns 1 else it returns 0\n",
    "    if response == 'yes':\n",
    "        Label(window, text = \"Thanks\").grid(column=1, row=0)\n",
    "    else:\n",
    "        Label(window, text = \"Ooh Sorry\").grid(column=1, row=0)\n",
    "###############\n",
    "btn = Button(window,text='Click here', command=clicked)\n",
    "btn.grid(column=0,row=0)\n",
    " \n",
    "window.mainloop()"
   ]
  },
  {
   "cell_type": "code",
   "execution_count": 20,
   "metadata": {},
   "outputs": [],
   "source": [
    "######## File dialog\n",
    "from tkinter import filedialog\n",
    "window = Tk()\n",
    "window.title('Simple GUI')\n",
    "window.geometry('350x200')\n",
    "#################\n",
    "def clicked():\n",
    "     file = filedialog.askopenfilename()\n",
    "###############\n",
    "btn = Button(window,text='Click here', command=clicked)\n",
    "btn.grid(column=0,row=0)\n",
    " \n",
    "window.mainloop()"
   ]
  },
  {
   "cell_type": "code",
   "execution_count": 23,
   "metadata": {},
   "outputs": [],
   "source": [
    "### Add Menue bar\n",
    "window = Tk()\n",
    "window.title(\"GUI\")\n",
    "\n",
    "def clicked():\n",
    "     file = filedialog.askopenfilename()\n",
    "        \n",
    "# creating a root menu to insert all the sub menus\n",
    "root_menu = Menu(window)\n",
    "window.config(menu = root_menu)\n",
    "\n",
    "# creating sub menus in the root menu\n",
    "file_menu = Menu(root_menu) # it intializes a new sub menu in the root menu\n",
    "root_menu.add_cascade(label = \"File\", menu = file_menu) # it creates the name of the sub menu\n",
    "file_menu.add_command(label = \"New ...\") # it adds a option to the sub menu 'command' parameter is used to do some action\n",
    "file_menu.add_command(label = \"Open ...\", command = clicked)\n",
    "file_menu.add_separator() # it adds a line after the 'Open files' option\n",
    "file_menu.add_command(label = \"Exit\", command = window.quit)\n",
    "\n",
    "# creting another sub menu\n",
    "edit_menu = Menu(root_menu)\n",
    "root_menu.add_cascade(label = \"Edit\", menu = edit_menu)\n",
    "edit_menu.add_command(label = \"Undo\")\n",
    "edit_menu.add_command(label = \"Redo\")\n",
    "\n",
    "window.mainloop()"
   ]
  },
  {
   "cell_type": "code",
   "execution_count": null,
   "metadata": {},
   "outputs": [],
   "source": []
  }
 ],
 "metadata": {
  "kernelspec": {
   "display_name": "Python 3",
   "language": "python",
   "name": "python3"
  },
  "language_info": {
   "codemirror_mode": {
    "name": "ipython",
    "version": 3
   },
   "file_extension": ".py",
   "mimetype": "text/x-python",
   "name": "python",
   "nbconvert_exporter": "python",
   "pygments_lexer": "ipython3",
   "version": "3.7.1"
  }
 },
 "nbformat": 4,
 "nbformat_minor": 2
}
